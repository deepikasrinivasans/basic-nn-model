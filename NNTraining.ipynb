from google.colab import auth
from sklearn.model_selection import train_test_split
from sklearn.preprocessing import MinMaxScaler
from tensorflow.keras.layers import Dense
from tensorflow.keras.models import Sequential
import gspread
import pandas as pd

from google.auth import default
import pandas as pd
auth.authenticate_user()
creds, _ = default()

gc = gspread.authorize(creds)
worksheet = gc.open('Data').sheet1

rows = worksheet.get_all_values()
df = pd.DataFrame(rows[1:], columns=rows[0])
df.head()

X=df[['Input']].values
Y=df[['Output']].values

x_train,x_test,y_train,y_test=train_test_split(x,y,test_size=0.5,random_state=40)

Scaler = MinMaxScaler()
Scaler.fit(x_train)

X_train1 = Scaler.transform(x_train)
ai_brain=Sequential([
    Dense(9,activation = 'relu',input_shape=[1]),
    Dense(16,activation = 'relu'),
    Dense(1)
])

ai_brain.compile(optimizer='adam',loss='mse')
ai_brain.fit(X_train1,y_train.astype(np.float32),epochs=2000)

loss_df = pd.DataFrame(ai_brain.history.history)
loss_df.plot()
test=Scaler.transform(x_test)
ai_brain.evaluate(test,y_test.astype(np.float32))
n1=[[19]]
n1_1=Scaler.transform(n1)
ai_brain.predict(n1_1)
